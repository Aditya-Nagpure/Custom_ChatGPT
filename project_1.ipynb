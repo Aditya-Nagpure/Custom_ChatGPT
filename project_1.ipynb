{
 "cells": [
  {
   "cell_type": "code",
   "execution_count": null,
   "id": "96dffe39-efee-4cfa-8e3d-9365c2ba4ac8",
   "metadata": {},
   "outputs": [],
   "source": [
    "pip install -r ./requirements.txt -q"
   ]
  },
  {
   "cell_type": "code",
   "execution_count": 3,
   "id": "d9c57081-7533-4d25-9e56-c1fbafdb2226",
   "metadata": {},
   "outputs": [
    {
     "name": "stdout",
     "output_type": "stream",
     "text": [
      "Name: openai\n",
      "Version: 1.52.2\n",
      "Summary: The official Python library for the openai API\n",
      "Home-page: https://github.com/openai/openai-python\n",
      "Author: \n",
      "Author-email: OpenAI <support@openai.com>\n",
      "License: \n",
      "Location: /Users/adi2/Library/Python/3.12/lib/python/site-packages\n",
      "Requires: anyio, distro, httpx, jiter, pydantic, sniffio, tqdm, typing-extensions\n",
      "Required-by: langchain-openai\n",
      "Note: you may need to restart the kernel to use updated packages.\n"
     ]
    }
   ],
   "source": [
    "pip show openai"
   ]
  },
  {
   "cell_type": "code",
   "execution_count": 7,
   "id": "9352c729-aa55-42e2-b7e5-a45df0c30ecd",
   "metadata": {},
   "outputs": [
    {
     "data": {
      "text/plain": [
       "True"
      ]
     },
     "execution_count": 7,
     "metadata": {},
     "output_type": "execute_result"
    }
   ],
   "source": [
    "import os\n",
    "from dotenv import load_dotenv, find_dotenv\n",
    "load_dotenv(find_dotenv(), override=True)"
   ]
  },
  {
   "cell_type": "markdown",
   "id": "e15561ca-fc53-4a5e-86ff-f680a29edeed",
   "metadata": {},
   "source": [
    "## Custom-ChatGPT App"
   ]
  },
  {
   "cell_type": "code",
   "execution_count": null,
   "id": "808a1d45-3255-4e24-b436-0b3b32cf3241",
   "metadata": {},
   "outputs": [
    {
     "name": "stdin",
     "output_type": "stream",
     "text": [
      "Your prompt:  what's the distance from the sun and the earth?\n"
     ]
    },
    {
     "name": "stdout",
     "output_type": "stream",
     "text": [
      "\n",
      "\n",
      "\u001b[1m> Entering new LLMChain chain...\u001b[0m\n",
      "Prompt after formatting:\n",
      "\u001b[32;1m\u001b[1;3mSystem: You are chatbot having a conversation with a human\n",
      "Human: light speed in vacuum\n",
      "AI: The speed of light in a vacuum is approximately 299,792 kilometers per second (186,282 miles per second). This speed is considered to be the ultimate speed limit of the universe according to the theory of relativity proposed by Albert Einstein.\n",
      "Human: and in water\n",
      "AI: The speed of light in water is slower than in a vacuum. Light travels at about 225,000 kilometers per second in water, which is approximately 25% slower than its speed in a vacuum. This difference in speed is due to the higher refractive index of water compared to that of a vacuum, which causes light to slow down when passing through a medium like water.\n",
      "Human: what's the distance from the sun and the earth?\u001b[0m\n",
      "\n",
      "\u001b[1m> Finished chain.\u001b[0m\n",
      "The average distance from the Sun to the Earth is about 93 million miles (150 million kilometers). This distance is known as an astronomical unit (AU), which is often used as a unit of measurement for distances within our solar system. Keep in mind that this distance can vary slightly throughout the year due to the elliptical orbit of the Earth around the Sun.\n",
      "--------------------------------------------------\n"
     ]
    },
    {
     "name": "stdin",
     "output_type": "stream",
     "text": [
      "Your prompt:  what did I ask you?\n"
     ]
    },
    {
     "name": "stdout",
     "output_type": "stream",
     "text": [
      "\n",
      "\n",
      "\u001b[1m> Entering new LLMChain chain...\u001b[0m\n",
      "Prompt after formatting:\n",
      "\u001b[32;1m\u001b[1;3mSystem: You are chatbot having a conversation with a human\n",
      "Human: light speed in vacuum\n",
      "AI: The speed of light in a vacuum is approximately 299,792 kilometers per second (186,282 miles per second). This speed is considered to be the ultimate speed limit of the universe according to the theory of relativity proposed by Albert Einstein.\n",
      "Human: and in water\n",
      "AI: The speed of light in water is slower than in a vacuum. Light travels at about 225,000 kilometers per second in water, which is approximately 25% slower than its speed in a vacuum. This difference in speed is due to the higher refractive index of water compared to that of a vacuum, which causes light to slow down when passing through a medium like water.\n",
      "Human: what's the distance from the sun and the earth?\n",
      "AI: The average distance from the Sun to the Earth is about 93 million miles (150 million kilometers). This distance is known as an astronomical unit (AU), which is often used as a unit of measurement for distances within our solar system. Keep in mind that this distance can vary slightly throughout the year due to the elliptical orbit of the Earth around the Sun.\n",
      "Human: what did I ask you?\u001b[0m\n",
      "\n",
      "\u001b[1m> Finished chain.\u001b[0m\n",
      "You asked about the distance from the Sun to the Earth.\n",
      "--------------------------------------------------\n"
     ]
    },
    {
     "name": "stdin",
     "output_type": "stream",
     "text": [
      "Your prompt:  and the questions before that?\n"
     ]
    },
    {
     "name": "stdout",
     "output_type": "stream",
     "text": [
      "\n",
      "\n",
      "\u001b[1m> Entering new LLMChain chain...\u001b[0m\n",
      "Prompt after formatting:\n",
      "\u001b[32;1m\u001b[1;3mSystem: You are chatbot having a conversation with a human\n",
      "Human: light speed in vacuum\n",
      "AI: The speed of light in a vacuum is approximately 299,792 kilometers per second (186,282 miles per second). This speed is considered to be the ultimate speed limit of the universe according to the theory of relativity proposed by Albert Einstein.\n",
      "Human: and in water\n",
      "AI: The speed of light in water is slower than in a vacuum. Light travels at about 225,000 kilometers per second in water, which is approximately 25% slower than its speed in a vacuum. This difference in speed is due to the higher refractive index of water compared to that of a vacuum, which causes light to slow down when passing through a medium like water.\n",
      "Human: what's the distance from the sun and the earth?\n",
      "AI: The average distance from the Sun to the Earth is about 93 million miles (150 million kilometers). This distance is known as an astronomical unit (AU), which is often used as a unit of measurement for distances within our solar system. Keep in mind that this distance can vary slightly throughout the year due to the elliptical orbit of the Earth around the Sun.\n",
      "Human: what did I ask you?\n",
      "AI: You asked about the distance from the Sun to the Earth.\n",
      "Human: and the questions before that?\u001b[0m\n",
      "\n",
      "\u001b[1m> Finished chain.\u001b[0m\n",
      "You asked about the speed of light in a vacuum and in water.\n",
      "--------------------------------------------------\n"
     ]
    }
   ],
   "source": [
    "from langchain.chat_models import ChatOpenAI\n",
    "from langchain.schema import SystemMessage\n",
    "from langchain.chains import LLMChain\n",
    "#1 imports\n",
    "from langchain.prompts import ChatPromptTemplate, HumanMessagePromptTemplate, MessagesPlaceholder\n",
    "from langchain.memory import ConversationBufferMemory, FileChatMessageHistory\n",
    "\n",
    "llm= ChatOpenAI(model_name='gpt-3.5-turbo', temperature=1)\n",
    "\n",
    "#2 memory objects\n",
    "\n",
    "history = FileChatMessageHistory('chat_history.json')\n",
    "memory = ConversationBufferMemory(\n",
    "    memory_key='chat_history',\n",
    "    chat_memory=history,\n",
    "    return_messages= True\n",
    ")\n",
    "\n",
    "#3\n",
    "prompt= ChatPromptTemplate(\n",
    "    input_variables=['content'],\n",
    "    messages=[\n",
    "        SystemMessage(content='You are chatbot having a conversation with a human'),\n",
    "        MessagesPlaceholder(variable_name='chat_history'), #where the memory will be stored\n",
    "        HumanMessagePromptTemplate.from_template('{content}')\n",
    "    ]                \n",
    ")\n",
    "\n",
    "#4\n",
    "chain= LLMChain(\n",
    "    llm=llm,\n",
    "    prompt=prompt,\n",
    "    memory=memory,\n",
    "    verbose=True\n",
    ")\n",
    "\n",
    "while True:\n",
    "    content = input('Your prompt: ')\n",
    "    if content in ['quit', 'exit', 'bye']:\n",
    "        print('Goodbye!')\n",
    "        break\n",
    "\n",
    "    try: \n",
    "        response = chain.invoke({'content': content})\n",
    "        print(response['text']) \n",
    "        print('-' * 50)\n",
    "    except Exception as e:\n",
    "        print(\"An error occurred:\", str(e))\n",
    "        break\n"
   ]
  },
  {
   "cell_type": "code",
   "execution_count": null,
   "id": "2d6dd348-6c70-44e6-9e8b-dc0c5e8a8142",
   "metadata": {},
   "outputs": [],
   "source": []
  }
 ],
 "metadata": {
  "kernelspec": {
   "display_name": "Python 3 (ipykernel)",
   "language": "python",
   "name": "python3"
  },
  "language_info": {
   "codemirror_mode": {
    "name": "ipython",
    "version": 3
   },
   "file_extension": ".py",
   "mimetype": "text/x-python",
   "name": "python",
   "nbconvert_exporter": "python",
   "pygments_lexer": "ipython3",
   "version": "3.12.0"
  }
 },
 "nbformat": 4,
 "nbformat_minor": 5
}

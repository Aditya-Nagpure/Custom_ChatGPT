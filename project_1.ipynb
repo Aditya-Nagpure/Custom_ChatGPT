{
 "cells": [
  {
   "cell_type": "code",
   "execution_count": 2,
   "id": "96dffe39-efee-4cfa-8e3d-9365c2ba4ac8",
   "metadata": {},
   "outputs": [
    {
     "name": "stdout",
     "output_type": "stream",
     "text": [
      "Note: you may need to restart the kernel to use updated packages.\n"
     ]
    }
   ],
   "source": [
    "pip install -r ./requirements.txt -q"
   ]
  },
  {
   "cell_type": "code",
   "execution_count": 3,
   "id": "d9c57081-7533-4d25-9e56-c1fbafdb2226",
   "metadata": {},
   "outputs": [
    {
     "name": "stdout",
     "output_type": "stream",
     "text": [
      "Name: openai\n",
      "Version: 1.52.2\n",
      "Summary: The official Python library for the openai API\n",
      "Home-page: https://github.com/openai/openai-python\n",
      "Author: \n",
      "Author-email: OpenAI <support@openai.com>\n",
      "License: \n",
      "Location: /Users/adi2/Library/Python/3.12/lib/python/site-packages\n",
      "Requires: anyio, distro, httpx, jiter, pydantic, sniffio, tqdm, typing-extensions\n",
      "Required-by: langchain-openai\n",
      "Note: you may need to restart the kernel to use updated packages.\n"
     ]
    }
   ],
   "source": [
    "pip show openai"
   ]
  },
  {
   "cell_type": "code",
   "execution_count": 7,
   "id": "9352c729-aa55-42e2-b7e5-a45df0c30ecd",
   "metadata": {},
   "outputs": [
    {
     "data": {
      "text/plain": [
       "True"
      ]
     },
     "execution_count": 7,
     "metadata": {},
     "output_type": "execute_result"
    }
   ],
   "source": [
    "import os\n",
    "from dotenv import load_dotenv, find_dotenv\n",
    "load_dotenv(find_dotenv(), override=True)"
   ]
  },
  {
   "cell_type": "markdown",
   "id": "e15561ca-fc53-4a5e-86ff-f680a29edeed",
   "metadata": {},
   "source": [
    "## Custom-ChatGPT App"
   ]
  },
  {
   "cell_type": "code",
   "execution_count": 14,
   "id": "808a1d45-3255-4e24-b436-0b3b32cf3241",
   "metadata": {},
   "outputs": [
    {
     "name": "stdin",
     "output_type": "stream",
     "text": [
      "Your prompt:  Mumbai is ...\n"
     ]
    },
    {
     "name": "stdout",
     "output_type": "stream",
     "text": [
      "a vibrant and bustling city in India, known for its diverse culture, delicious street food, Bollywood film industry, and bustling city life. It is often referred to as the financial capital of India and is home to people from various backgrounds and communities.\n",
      "--------------------------------------------------\n"
     ]
    },
    {
     "name": "stdin",
     "output_type": "stream",
     "text": [
      "Your prompt:  Its population is ..\n"
     ]
    },
    {
     "name": "stdout",
     "output_type": "stream",
     "text": [
      "Population is a term used to describe the number of individuals living in a particular area. Could you please provide more context or clarify your question so that I can assist you more accurately?\n",
      "--------------------------------------------------\n"
     ]
    },
    {
     "name": "stdin",
     "output_type": "stream",
     "text": [
      "Your prompt:  Tell me about its history.\n"
     ]
    },
    {
     "name": "stdout",
     "output_type": "stream",
     "text": [
      "Sure! Chatbots have a long history that dates back to the 1960s. The first chatbot ever created was called ELIZA, designed by Joseph Weizenbaum at the Massachusetts Institute of Technology (MIT). ELIZA was a simple program that could engage in text-based conversations with users using pattern matching and scripted responses. It was primarily used for demonstration purposes and to simulate a Rogerian psychotherapist.\n",
      "\n",
      "Since then, chatbots have evolved significantly, with advancements in artificial intelligence, natural language processing, and machine learning. Today, chatbots are used in a wide range of applications, including customer service, virtual assistants, and automated messaging.\n",
      "\n",
      "The development of chatbots has been driven by the increasing use of messaging apps and the demand for instant communication. Companies and organizations have adopted chatbots to provide 24/7 customer support, streamline processes, and enhance user experiences.\n",
      "\n",
      "Overall, the history of chatbots showcases the evolution of technology and the ongoing efforts to improve human-computer interaction through natural language processing and AI algorithms.\n",
      "--------------------------------------------------\n"
     ]
    },
    {
     "name": "stdin",
     "output_type": "stream",
     "text": [
      "Your prompt:  quit\n"
     ]
    },
    {
     "name": "stdout",
     "output_type": "stream",
     "text": [
      "Goodbye!\n"
     ]
    }
   ],
   "source": [
    "from langchain.chat_models import ChatOpenAI\n",
    "from langchain.schema import SystemMessage\n",
    "from langchain.chains import LLMChain\n",
    "from langchain.prompts import ChatPromptTemplate, HumanMessagePromptTemplate\n",
    "\n",
    "llm= ChatOpenAI(model_name='gpt-3.5-turbo', temperature=1)\n",
    "\n",
    "prompt= ChatPromptTemplate(\n",
    "    input_variables=['content'],\n",
    "    messages=[\n",
    "        SystemMessage(content='You are chatbot having a conversation with a human'),\n",
    "        HumanMessagePromptTemplate.from_template('{content}')\n",
    "    ]                \n",
    ")\n",
    "\n",
    "chain= LLMChain(\n",
    "    llm=llm,\n",
    "    prompt=prompt,\n",
    "    verbose=False\n",
    ")\n",
    "\n",
    "while True:\n",
    "    content = input('Your prompt: ')\n",
    "    if content in ['quit', 'exit', 'bye']:\n",
    "        print('Goodbye!')\n",
    "        break\n",
    "\n",
    "    try: \n",
    "        response = chain.invoke({'content': content})\n",
    "        print(response['text']) \n",
    "        print('-' * 50)\n",
    "    except Exception as e:\n",
    "        print(\"An error occurred:\", str(e))\n",
    "        break\n"
   ]
  },
  {
   "cell_type": "code",
   "execution_count": null,
   "id": "2d6dd348-6c70-44e6-9e8b-dc0c5e8a8142",
   "metadata": {},
   "outputs": [],
   "source": []
  }
 ],
 "metadata": {
  "kernelspec": {
   "display_name": "Python 3 (ipykernel)",
   "language": "python",
   "name": "python3"
  },
  "language_info": {
   "codemirror_mode": {
    "name": "ipython",
    "version": 3
   },
   "file_extension": ".py",
   "mimetype": "text/x-python",
   "name": "python",
   "nbconvert_exporter": "python",
   "pygments_lexer": "ipython3",
   "version": "3.12.0"
  }
 },
 "nbformat": 4,
 "nbformat_minor": 5
}
